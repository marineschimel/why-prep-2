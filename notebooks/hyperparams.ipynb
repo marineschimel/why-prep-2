{
 "cells": [
  {
   "cell_type": "code",
   "execution_count": 1,
   "metadata": {},
   "outputs": [],
   "source": [
    "import numpy as np\n",
    "from matplotlib import pyplot as plt"
   ]
  },
  {
   "cell_type": "code",
   "execution_count": 2,
   "metadata": {},
   "outputs": [],
   "source": [
    "import numpy as np\n",
    "import matplotlib\n",
    "import matplotlib.pyplot as plt\n",
    "import seaborn as sns\n",
    "from matplotlib.gridspec import GridSpec\n",
    "import matplotlib.lines as mlines\n",
    "\n",
    "text_width = 6.30107 # in  --> Confirmed with template explanation\n",
    "\n",
    "fs_m1 = 6  # for figure ticks\n",
    "fs = 8  # for regular figure text\n",
    "fs_p1 = 9  # figure titles\n",
    "\n",
    "matplotlib.rc('font', size=fs)          # controls default text sizes\n",
    "matplotlib.rc('axes', titlesize=fs)     # fontsize of the axes title\n",
    "matplotlib.rc('axes', labelsize=fs)    # fontsize of the x and y labels\n",
    "matplotlib.rc('xtick', labelsize=fs_m1)    # fontsize of the tick labels\n",
    "matplotlib.rc('ytick', labelsize=fs_m1)    # fontsize of the tick labels\n",
    "matplotlib.rc('legend', fontsize=fs_m1)    # legend fontsize\n",
    "matplotlib.rc('figure', titlesize=fs_p1)  # fontsize of the figure title\n",
    "\n",
    "\n",
    "matplotlib.rc('font', **{'family':'sans-serif', 'sans-serif': ['Helvetica']})\n",
    "matplotlib.rc('text', usetex=True)\n",
    "plt.style.use(['paper.mplstyle'])"
   ]
  },
  {
   "cell_type": "code",
   "execution_count": 22,
   "metadata": {},
   "outputs": [],
   "source": [
    "n_targets = 1\n",
    "times = [300]\n",
    "hand_targets = np.loadtxt(f\"/home/mmcs3/rds/rds-t2-cs156-T7o4pEA8QoU/mmcs3/random_monkeys_random_lambda_1E-7/mov_only_soc/hand_targets\")\n",
    "def get_dir(lam, t_coeff):\n",
    "    return f\"/home/mmcs3/rds/rds-t2-cs156-T7o4pEA8QoU/mmcs3/t_coeff_{t_coeff}/random_monkeys_random_lambda_{lam}/ramping/seed_1_200_2_1.5\"\n",
    "\n",
    "def hands(dir, i, t):\n",
    "    idces = [0,2]\n",
    "    h = np.loadtxt(f'{dir}/hands_{i}_{t}')[:,idces]\n",
    "    return h - h[0]\n",
    "\n",
    "def torques(dir, i, t):\n",
    "    h = np.loadtxt(f'{dir}/torques_{i}_{t}')\n",
    "    return h\n",
    "\n",
    "def prep_idx(lam, t_coeff= 1.5):\n",
    "    dir = get_dir(lam, t_coeff)\n",
    "    def get_prep_idx(us, t):\n",
    "        if t == 0:\n",
    "            return 0\n",
    "        else : \n",
    "            cutoff = int(t/2 )\n",
    "            u_prep, u_mov = us[:cutoff+1], us[cutoff+1:]\n",
    "            return np.sum(u_prep**2)/np.sum(u_mov**2)\n",
    "    def us(t,i):\n",
    "        return np.loadtxt(f\"{dir}/us_{i}_{t}\")\n",
    "    def get_all_idces(i):\n",
    "        ai = np.asarray([get_prep_idx(us(t, i),t) for t in times])\n",
    "        return ai\n",
    "    movs = range(n_targets)\n",
    "    idces = np.concatenate([get_all_idces(i)[:,None] for i in movs], axis=1)\n",
    "    m, v = np.mean(idces, axis=1), np.std(idces, axis=1)/np.sqrt(8)\n",
    "    return m, v\n",
    "\n",
    "def input_amount(lam, t_coeff= 1.5):\n",
    "    dir = get_dir(lam, t_coeff)\n",
    "    def get_prep_idx(us, t):\n",
    "        return np.sum(us**2)\n",
    "    def us(t,i):\n",
    "        return np.loadtxt(f\"{dir}/us_{i}_{t}\")\n",
    "    def get_all_idces(i):\n",
    "        ai = np.asarray([get_prep_idx(us(t, i),t) for t in times])\n",
    "        return ai\n",
    "    movs = range(n_targets)\n",
    "    idces = np.concatenate([get_all_idces(i)[:,None] for i in movs], axis=1)\n",
    "    m, v = np.mean(idces, axis=1), np.std(idces, axis=1)/np.sqrt(8)\n",
    "    return m, v\n",
    "\n",
    "def cost_u(lam, t_coeff= 1.5):\n",
    "    dir = get_dir(lam, t_coeff)\n",
    "    def cost_u(t, i):\n",
    "       return np.loadtxt(f'{dir}/u_cost_{i}_{t}')[-1]\n",
    "    def get_all_idces(i):\n",
    "        ai = np.asarray([cost_u(t,i) for t in times])\n",
    "        return ai\n",
    "    movs = range(n_targets)\n",
    "    idces = np.concatenate([get_all_idces(i)[:,None] for i in movs], axis=1)\n",
    "    m, v = np.mean(idces, axis=1), np.std(idces, axis=1)/np.sqrt(8)\n",
    "    return m, v\n",
    "\n",
    "def cost_tgt(lam, t_coeff= 1.5):\n",
    "    dir = get_dir(lam, t_coeff)\n",
    "    def cost_tgt(t, i):\n",
    "       return np.loadtxt(f'{dir}/task_cost_{i}_{t}')[-1]\n",
    "    def get_all_idces(i):\n",
    "        ai = np.asarray([cost_tgt(t,i) for t in times])\n",
    "        return ai\n",
    "    movs = range(n_targets)\n",
    "    idces = np.concatenate([get_all_idces(i)[:,None] for i in movs], axis=1)\n",
    "    m, v = np.mean(idces, axis=1), np.std(idces, axis=1)/np.sqrt(n_targets)\n",
    "    return m, v\n",
    "\n",
    "def cost_torques(lam, t_coeff= 1.5):\n",
    "    dir = get_dir(lam, t_coeff)\n",
    "    def cost_torques(t, i):\n",
    "       return np.loadtxt(f'{dir}/task_cost_{i}_{t}')[0]\n",
    "    def get_all_idces(i):\n",
    "        ai = np.asarray([cost_torques(t,i) for t in times])\n",
    "        return ai\n",
    "    movs = range(n_targets)\n",
    "    idces = np.concatenate([get_all_idces(i)[:,None] for i in movs], axis=1)\n",
    "    m, v = np.mean(idces, axis=1), np.std(idces, axis=1)/np.sqrt(n_targets)\n",
    "    return m, v\n",
    "\n",
    "def mv_loss(lam, t_coeff= 1.5):\n",
    "    dir = get_dir(lam, t_coeff)\n",
    "    def cost_torques(t, i):\n",
    "       return np.loadtxt(f'{dir}/loss_{i}_{t}').sum()\n",
    "    def get_all_idces(i):\n",
    "        ai = np.asarray([cost_torques(t,i) for t in times])\n",
    "        return ai\n",
    "    movs = range(n_targets)\n",
    "    idces = np.concatenate([get_all_idces(i)[:,None] for i in movs], axis=1)\n",
    "    m, v = np.mean(idces, axis=1), np.std(idces, axis=1)/np.sqrt(n_targets)\n",
    "    return m, v\n",
    "\n",
    "def successful_reach(lam, t_coeff=1.5):\n",
    "    dir = get_dir(lam, t_coeff)\n",
    "    def get_mov_time(mov, tgt):\n",
    "        end_pos = mov[-100:,:2]\n",
    "        end_diff = np.linalg.norm(end_pos - tgt, axis=1)\n",
    "        failures = np.sum(np.where(end_diff> 0.01, 1., 0.))\n",
    "        return failures\n",
    "    def get_all_idces(i):\n",
    "        tgt = hand_targets[i]\n",
    "        ai = np.asarray([get_mov_time(hands(dir, i, t), tgt) for t in times])\n",
    "        return ai\n",
    "    movs = range(n_targets)\n",
    "    idces = np.concatenate([get_all_idces(i)[:,None] for i in movs], axis=1)\n",
    "    m, v = np.mean(idces, axis=1), np.std(idces, axis=1)/np.sqrt(n_targets)\n",
    "    return m, v\n",
    "\n",
    "def successful_hold(lam, t_coeff=1.5):\n",
    "    dir = get_dir(lam, t_coeff)\n",
    "    def get_torques_prep(i, t):\n",
    "        max_t = np.max(np.linalg.norm(torques(dir, i, t), axis=1))\n",
    "        torques_prep = torques(dir, i, t)[:int(t/2),:]\n",
    "        diff = np.linalg.norm(torques_prep, axis=1)\n",
    "        failures = np.sum(np.where(diff> 0.01*max_t, 1., 0.))\n",
    "        return failures\n",
    "    def get_all_idces(i):\n",
    "        tgt = hand_targets[i]\n",
    "        ai = np.asarray([get_torques_prep(i,t) for t in times])\n",
    "        return ai\n",
    "    movs = range(n_targets)\n",
    "    idces = np.concatenate([get_all_idces(i)[:,None] for i in movs], axis=1)\n",
    "    m, v = np.mean(idces, axis=1), np.std(idces, axis=1)/np.sqrt(n_targets)\n",
    "    return m, v"
   ]
  },
  {
   "cell_type": "code",
   "execution_count": 23,
   "metadata": {},
   "outputs": [],
   "source": [
    "t_coeff = \"1.5\" \n",
    "lam = \"0.0001\"\n",
    "m_loss, _ =  mv_loss(lam, t_coeff)\n",
    "sr, _ = successful_reach(lam, t_coeff)\n",
    "sh, _ = successful_hold(lam, t_coeff)\n",
    "\n",
    "\n",
    "\n"
   ]
  },
  {
   "cell_type": "markdown",
   "metadata": {},
   "source": [
    "## Add a heatmap of what happens for different parameters"
   ]
  },
  {
   "cell_type": "code",
   "execution_count": 26,
   "metadata": {},
   "outputs": [],
   "source": [
    "t_coeffs = [\"1.\", '10.', \"50.\"]\n",
    "lambdas = [\"0.001\", \"0.0001\", \"0.00001\",  \"0.000001\", \"0.0000001\"]\n",
    "srs = []\n",
    "shs = []\n",
    "pis = []\n",
    "losses = []\n",
    "tot_us = []\n",
    "for tc in t_coeffs :\n",
    "    srts, shts, pits, losses_ts, tot_uts = [], [], [], [], []\n",
    "    for lam in lambdas : \n",
    "        sr, _ = successful_reach(lam, tc)\n",
    "        sh, _ = successful_hold(lam, tc)\n",
    "        pi, _ = prep_idx(lam, tc)\n",
    "        ml, _ = mv_loss(lam, tc)\n",
    "        tot_u, _ = input_amount(lam, tc)\n",
    "        srts += [sr]\n",
    "        shts += [sh]\n",
    "        pits += [pi]\n",
    "        losses_ts += [ml]\n",
    "        tot_uts += [tot_u]\n",
    "    srs += [srts]\n",
    "    shs += [shts]\n",
    "    pis += [pits]\n",
    "    losses += [losses_ts]\n",
    "    tot_us += [tot_uts]\n",
    "srs = np.asarray(srs)[:,:,-1]\n",
    "shs = np.asarray(shs)[:,:,-1]\n",
    "pis = np.asarray(pis)[:,:,-1]\n",
    "losses = np.asarray(losses)[:,:,-1]\n",
    "tot_us = np.asarray(tot_us)[:,:,-1]"
   ]
  },
  {
   "cell_type": "code",
   "execution_count": 28,
   "metadata": {},
   "outputs": [
    {
     "data": {
      "text/plain": [
       "[<matplotlib.axis.YTick at 0x151e21839ca0>,\n",
       " <matplotlib.axis.YTick at 0x151e2182cf10>,\n",
       " <matplotlib.axis.YTick at 0x151e2182c490>]"
      ]
     },
     "execution_count": 28,
     "metadata": {},
     "output_type": "execute_result"
    },
    {
     "data": {
      "image/png": "[encoded data removed]",
      "text/plain": [
       "<Figure size 432x288 with 2 Axes>"
      ]
     },
     "metadata": {
      "needs_background": "light"
     },
     "output_type": "display_data"
    },
    {
     "data": {
      "image/png": "[encoded data removed]",
      "text/plain": [
       "<Figure size 432x288 with 2 Axes>"
      ]
     },
     "metadata": {
      "needs_background": "light"
     },
     "output_type": "display_data"
    },
    {
     "data": {
      "image/png": "[encoded data removed]",
      "text/plain": [
       "<Figure size 432x288 with 2 Axes>"
      ]
     },
     "metadata": {
      "needs_background": "light"
     },
     "output_type": "display_data"
    },
    {
     "data": {
      "image/png": "[encoded data removed]",
      "text/plain": [
       "<Figure size 432x288 with 2 Axes>"
      ]
     },
     "metadata": {
      "needs_background": "light"
     },
     "output_type": "display_data"
    },
    {
     "data": {
      "image/png": "[encoded data removed]",
      "text/plain": [
       "<Figure size 432x288 with 2 Axes>"
      ]
     },
     "metadata": {
      "needs_background": "light"
     },
     "output_type": "display_data"
    }
   ],
   "source": [
    "## Successful reach?\n",
    "plt.imshow(srs, cmap = \"coolwarm\")\n",
    "plt.title(\"Successful reaches\")\n",
    "plt.colorbar()\n",
    "ax = plt.gca()\n",
    "ax.set_xticks(range(len(lambdas)), [float(l) for l in lambdas])\n",
    "ax.set_yticks(range(len(t_coeffs)), [float(t) for t in t_coeffs])\n",
    "## Successful hold?\n",
    "plt.figure()\n",
    "plt.imshow(shs, cmap = \"coolwarm\")\n",
    "plt.colorbar()\n",
    "plt.title(\"Successful holding\")\n",
    "ax = plt.gca()\n",
    "ax.set_xticks(range(len(lambdas)), [float(l) for l in lambdas])\n",
    "ax.set_yticks(range(len(t_coeffs)), [float(t) for t in t_coeffs])\n",
    "## Prep index?\n",
    "plt.figure()\n",
    "plt.imshow(pis, cmap = \"coolwarm\")\n",
    "plt.colorbar()\n",
    "plt.title(\"Prep index\")\n",
    "ax = plt.gca()\n",
    "ax.set_xticks(range(len(lambdas)), [float(l) for l in lambdas])\n",
    "ax.set_yticks(range(len(t_coeffs)), [float(t) for t in t_coeffs])\n",
    "## Loss\n",
    "plt.figure()\n",
    "plt.imshow(losses, cmap = \"coolwarm\")\n",
    "plt.colorbar()\n",
    "plt.title(\"Total cost\")\n",
    "ax = plt.gca()\n",
    "ax.set_xticks(range(len(lambdas)), [float(l) for l in lambdas])\n",
    "ax.set_yticks(range(len(t_coeffs)), [float(t) for t in t_coeffs])\n",
    "## Input amount\n",
    "plt.figure()\n",
    "plt.imshow(tot_us, cmap = \"coolwarm\")\n",
    "plt.colorbar()\n",
    "plt.title(\"Input amount\")\n",
    "ax = plt.gca()\n",
    "ax.set_xticks(range(len(lambdas)), [float(l) for l in lambdas])\n",
    "ax.set_yticks(range(len(t_coeffs)), [float(t) for t in t_coeffs])"
   ]
  }
 ],
 "metadata": {
  "kernelspec": {
   "display_name": "why-prep",
   "language": "python",
   "name": "why-prep"
  },
  "language_info": {
   "codemirror_mode": {
    "name": "ipython",
    "version": 3
   },
   "file_extension": ".py",
   "mimetype": "text/x-python",
   "name": "python",
   "nbconvert_exporter": "python",
   "pygments_lexer": "ipython3",
   "version": "3.9.6"
  },
  "orig_nbformat": 4
 },
 "nbformat": 4,
 "nbformat_minor": 2
}
